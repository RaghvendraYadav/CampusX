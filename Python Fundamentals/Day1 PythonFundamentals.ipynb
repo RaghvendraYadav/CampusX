{
 "cells": [
  {
   "cell_type": "code",
   "execution_count": 1,
   "id": "02a34cda",
   "metadata": {},
   "outputs": [
    {
     "name": "stdout",
     "output_type": "stream",
     "text": [
      "Hello World\n"
     ]
    }
   ],
   "source": [
    "# Built in Function \n",
    "#print()-The thing we want to print o screen it will print\n",
    "#Python is a case sensitive language\n",
    "print('Hello World')"
   ]
  },
  {
   "cell_type": "code",
   "execution_count": 2,
   "id": "e8a156d2",
   "metadata": {},
   "outputs": [
    {
     "name": "stdout",
     "output_type": "stream",
     "text": [
      "Raghvendra yadav\n"
     ]
    }
   ],
   "source": [
    "print('Raghvendra yadav')"
   ]
  },
  {
   "cell_type": "code",
   "execution_count": 4,
   "id": "bad32a03",
   "metadata": {},
   "outputs": [
    {
     "ename": "SyntaxError",
     "evalue": "invalid syntax (<ipython-input-4-b5cd5e66f5b8>, line 1)",
     "output_type": "error",
     "traceback": [
      "\u001b[1;36m  File \u001b[1;32m\"<ipython-input-4-b5cd5e66f5b8>\"\u001b[1;36m, line \u001b[1;32m1\u001b[0m\n\u001b[1;33m    print(Raghvendra Yadav)\u001b[0m\n\u001b[1;37m                     ^\u001b[0m\n\u001b[1;31mSyntaxError\u001b[0m\u001b[1;31m:\u001b[0m invalid syntax\n"
     ]
    }
   ],
   "source": [
    "print(Raghvendra Yadav)\n",
    "# Error Means the Syntax error \n",
    "# ' '  states tht we are printing text and it will not understand without ''"
   ]
  },
  {
   "cell_type": "code",
   "execution_count": 5,
   "id": "5c5ccf2d",
   "metadata": {},
   "outputs": [
    {
     "name": "stdout",
     "output_type": "stream",
     "text": [
      "3\n"
     ]
    }
   ],
   "source": [
    "print(3)"
   ]
  },
  {
   "cell_type": "code",
   "execution_count": 7,
   "id": "be2912e9",
   "metadata": {},
   "outputs": [
    {
     "name": "stdout",
     "output_type": "stream",
     "text": [
      "True\n"
     ]
    }
   ],
   "source": [
    "print(True)# Boolean value \n"
   ]
  },
  {
   "cell_type": "code",
   "execution_count": 13,
   "id": "40a12b13",
   "metadata": {},
   "outputs": [
    {
     "name": "stdout",
     "output_type": "stream",
     "text": [
      "Hello 4 4.5 True\n",
      "Hello/4/4.5/True\n"
     ]
    }
   ],
   "source": [
    "# power of Print\n",
    "print('Hello',4,4.5,True)\n",
    "# all four value will get printed seperated by a space \n",
    "\n",
    "print('Hello',4,4.5,True,sep='/')# allthe values will get seperated y  / "
   ]
  },
  {
   "cell_type": "code",
   "execution_count": 14,
   "id": "f906f6f7",
   "metadata": {},
   "outputs": [
    {
     "name": "stdout",
     "output_type": "stream",
     "text": [
      "hello\n",
      "World\n"
     ]
    }
   ],
   "source": [
    "print('hello')\n",
    "print('World')"
   ]
  },
  {
   "cell_type": "code",
   "execution_count": 16,
   "id": "4d35a186",
   "metadata": {},
   "outputs": [
    {
     "name": "stdout",
     "output_type": "stream",
     "text": [
      "hello-world\n"
     ]
    }
   ],
   "source": [
    "print('hello',end='-')# here line will not Chnge \n",
    "print('world')"
   ]
  },
  {
   "cell_type": "markdown",
   "id": "e718dc0e",
   "metadata": {},
   "source": [
    "# Data Types "
   ]
  },
  {
   "cell_type": "code",
   "execution_count": 17,
   "id": "980814dc",
   "metadata": {},
   "outputs": [
    {
     "name": "stdout",
     "output_type": "stream",
     "text": [
      "6\n"
     ]
    }
   ],
   "source": [
    "## Integer Data Type \n",
    "print(6)\n"
   ]
  },
  {
   "cell_type": "code",
   "execution_count": 26,
   "id": "7c3badde",
   "metadata": {},
   "outputs": [
    {
     "name": "stdout",
     "output_type": "stream",
     "text": [
      "8.85\n",
      "1.7e+308\n"
     ]
    }
   ],
   "source": [
    "# Decimal or Float\n",
    "print(8.85)\n",
    "print(1.7e308)"
   ]
  },
  {
   "cell_type": "code",
   "execution_count": 27,
   "id": "ce0ac0cc",
   "metadata": {},
   "outputs": [
    {
     "name": "stdout",
     "output_type": "stream",
     "text": [
      "True\n",
      "False\n"
     ]
    }
   ],
   "source": [
    "# boolean \n",
    "print(True)\n",
    "print(False)"
   ]
  },
  {
   "cell_type": "code",
   "execution_count": 30,
   "id": "09d4d1bc",
   "metadata": {},
   "outputs": [
    {
     "name": "stdout",
     "output_type": "stream",
     "text": [
      "Hello World\n"
     ]
    }
   ],
   "source": [
    "# Text/String\n",
    "print('Hello World')\n",
    "\n"
   ]
  },
  {
   "cell_type": "code",
   "execution_count": 32,
   "id": "4415be99",
   "metadata": {},
   "outputs": [
    {
     "name": "stdout",
     "output_type": "stream",
     "text": [
      "(5+6j)\n"
     ]
    }
   ],
   "source": [
    "# complex\n",
    "print(5+6j)"
   ]
  },
  {
   "cell_type": "code",
   "execution_count": 33,
   "id": "726d6e0b",
   "metadata": {},
   "outputs": [
    {
     "name": "stdout",
     "output_type": "stream",
     "text": [
      "[1, 2, 3, 4]\n"
     ]
    }
   ],
   "source": [
    "# list ->\n",
    "print([1,2,3,4])"
   ]
  },
  {
   "cell_type": "code",
   "execution_count": 34,
   "id": "77a2b303",
   "metadata": {},
   "outputs": [
    {
     "name": "stdout",
     "output_type": "stream",
     "text": [
      "(1, 2, 4, 5)\n"
     ]
    }
   ],
   "source": [
    "#tuple\n",
    "print((1,2,4,5))"
   ]
  },
  {
   "cell_type": "code",
   "execution_count": 35,
   "id": "0b2ef1c5",
   "metadata": {},
   "outputs": [
    {
     "name": "stdout",
     "output_type": "stream",
     "text": [
      "{1, 2, 4, 5}\n"
     ]
    }
   ],
   "source": [
    "# sets\n",
    "print({1,2,4,5})"
   ]
  },
  {
   "cell_type": "code",
   "execution_count": 36,
   "id": "3b8d84eb",
   "metadata": {},
   "outputs": [
    {
     "name": "stdout",
     "output_type": "stream",
     "text": [
      "{'a': 1, 'b': 2, 'Name': 'Raghvendra', 'Gender': 'Male', 'Weight': 69}\n"
     ]
    }
   ],
   "source": [
    "#dictionary \n",
    "print({'a':1,'b':2,'Name':'Raghvendra','Gender':'Male','Weight':69})"
   ]
  },
  {
   "cell_type": "code",
   "execution_count": 39,
   "id": "84d7c874",
   "metadata": {},
   "outputs": [
    {
     "name": "stdout",
     "output_type": "stream",
     "text": [
      "<class 'float'>\n",
      "<class 'bool'>\n"
     ]
    },
    {
     "data": {
      "text/plain": [
       "complex"
      ]
     },
     "execution_count": 39,
     "metadata": {},
     "output_type": "execute_result"
    }
   ],
   "source": [
    "# type function;- Give the data type of the Variable \n",
    "print(type(1.7e308))\n",
    "print(type(True))\n",
    "type(5+6j)"
   ]
  },
  {
   "cell_type": "code",
   "execution_count": 42,
   "id": "458ffc9c",
   "metadata": {},
   "outputs": [
    {
     "name": "stdout",
     "output_type": "stream",
     "text": [
      "Raghvendra\n"
     ]
    }
   ],
   "source": [
    "# Variables\n",
    "# Variable Creation \n",
    "name='Raghvendra'\n",
    "print(name)"
   ]
  },
  {
   "cell_type": "code",
   "execution_count": 43,
   "id": "49f9d4d0",
   "metadata": {},
   "outputs": [
    {
     "data": {
      "text/plain": [
       "'Raghvendra'"
      ]
     },
     "execution_count": 43,
     "metadata": {},
     "output_type": "execute_result"
    }
   ],
   "source": [
    "name"
   ]
  },
  {
   "cell_type": "code",
   "execution_count": 45,
   "id": "c034a585",
   "metadata": {},
   "outputs": [
    {
     "name": "stdout",
     "output_type": "stream",
     "text": [
      "17\n"
     ]
    }
   ],
   "source": [
    "a=5\n",
    "b=12\n",
    "print(a+b)"
   ]
  },
  {
   "cell_type": "code",
   "execution_count": 46,
   "id": "d71762db",
   "metadata": {},
   "outputs": [],
   "source": [
    "# Dynamic Typing \n",
    "# he we donot tell the Data type of Variable It is automatically understood by interpretor in python\n",
    "# Static Typing\n",
    "# we need to specify the type of variable"
   ]
  },
  {
   "cell_type": "code",
   "execution_count": 48,
   "id": "d5cd1aff",
   "metadata": {},
   "outputs": [
    {
     "name": "stdout",
     "output_type": "stream",
     "text": [
      "5\n",
      "Nitish\n"
     ]
    }
   ],
   "source": [
    "# Dynamic Binding we can chnge the variable Dataa type of the variable in the same program \n",
    "a=5\n",
    "print(a)\n",
    "a='Nitish'\n",
    "print(a)"
   ]
  },
  {
   "cell_type": "code",
   "execution_count": 51,
   "id": "49091142",
   "metadata": {},
   "outputs": [
    {
     "name": "stdout",
     "output_type": "stream",
     "text": [
      "1 2 3\n"
     ]
    }
   ],
   "source": [
    "# multiple variable creation and value assignment\n",
    "a,b,c=1,2,3\n",
    "print(a,b,c)"
   ]
  },
  {
   "cell_type": "code",
   "execution_count": 53,
   "id": "0711e4df",
   "metadata": {},
   "outputs": [
    {
     "name": "stdout",
     "output_type": "stream",
     "text": [
      "5 5 5\n"
     ]
    }
   ],
   "source": [
    "a=b=c=5\n",
    "print(a,b,c)"
   ]
  },
  {
   "cell_type": "code",
   "execution_count": 56,
   "id": "4a7c564d",
   "metadata": {},
   "outputs": [
    {
     "name": "stdout",
     "output_type": "stream",
     "text": [
      "17\n"
     ]
    }
   ],
   "source": [
    "a=5\n",
    "b=12\n",
    "print(a+b)# This is a comment"
   ]
  },
  {
   "cell_type": "code",
   "execution_count": 57,
   "id": "d0e580f5",
   "metadata": {},
   "outputs": [],
   "source": [
    "# Keywords and identifiers \n",
    "# python Interpretor -English high level language  machine ko smjh nhi ata binary ata h \n",
    "# somehow code ko 1 0 k pattern m conert kia jatah toh hota h compile Ab yeh compile hota two type k compiler and interpretor \n",
    "# usse thode help Chahiye hote to wog help leywordsse milti h \n",
    "# 32 keywords hote h python m \n"
   ]
  },
  {
   "cell_type": "code",
   "execution_count": 61,
   "id": "8c0c08f5",
   "metadata": {},
   "outputs": [
    {
     "name": "stdout",
     "output_type": "stream",
     "text": [
      "r\n"
     ]
    }
   ],
   "source": [
    "# Identifiers \n",
    "# You cannot statrt with a digit \n",
    "#1name='Ragh'# error \n",
    "# you can use Upper Case lower case but special Character m underscore use krskte ho \n",
    "#first-name='Ragh'# error\n",
    "_='r'\n",
    "print(_)\n",
    "\n",
    "# Identifiers cannot be keywords \n"
   ]
  },
  {
   "cell_type": "code",
   "execution_count": 63,
   "id": "5e52a92f",
   "metadata": {},
   "outputs": [
    {
     "name": "stdout",
     "output_type": "stream",
     "text": [
      "12as\n"
     ]
    },
    {
     "data": {
      "text/plain": [
       "'12as'"
      ]
     },
     "execution_count": 63,
     "metadata": {},
     "output_type": "execute_result"
    }
   ],
   "source": [
    "# write a progrsm user  se 2 number mang kr print krenge \n",
    "# User Input \n",
    "# Static  & Dynamic Software \n",
    "# User Input \n",
    "input()"
   ]
  },
  {
   "cell_type": "code",
   "execution_count": 64,
   "id": "42794ebb",
   "metadata": {},
   "outputs": [
    {
     "name": "stdout",
     "output_type": "stream",
     "text": [
      "Apna Name Btao Bobby Raghvendra\n"
     ]
    },
    {
     "data": {
      "text/plain": [
       "'Raghvendra'"
      ]
     },
     "execution_count": 64,
     "metadata": {},
     "output_type": "execute_result"
    }
   ],
   "source": [
    "# Write the message\n",
    "input('Apna Name Btao Bobby ')"
   ]
  },
  {
   "cell_type": "code",
   "execution_count": 77,
   "id": "3b216e38",
   "metadata": {},
   "outputs": [
    {
     "name": "stdout",
     "output_type": "stream",
     "text": [
      "Enter the first Number 12\n",
      "Enter the Second Number21\n",
      "<class 'int'> <class 'int'>\n",
      "33\n",
      "<class 'int'>\n"
     ]
    }
   ],
   "source": [
    "# Phhle Dimaag m Fir Code M \n",
    "# Take input from user and Store them in a variable \n",
    "\n",
    "# Storing the entered number in the variable \n",
    "#fnum=input('Enter the first Number ')\n",
    "# Storing  the integer number taking the input \n",
    "# so we will do type conversion \n",
    "# explicit and iimplicit\n",
    "fnum=int(input('Enter the first Number '))\n",
    "snum=int(input('Enter the Second Number'))\n",
    "print(type(fnum),type(snum))\n",
    "# add the 2 variable \n",
    "result=fnum+snum\n",
    "# print the results\n",
    "print(result)\n",
    "print(type(fnum))"
   ]
  },
  {
   "cell_type": "code",
   "execution_count": 75,
   "id": "5b5af412",
   "metadata": {},
   "outputs": [
    {
     "name": "stdout",
     "output_type": "stream",
     "text": [
      "<class 'str'>\n"
     ]
    }
   ],
   "source": [
    "# explicit Cobnversion\n",
    "print(type(str(5)))\n",
    "      "
   ]
  },
  {
   "cell_type": "code",
   "execution_count": 79,
   "id": "5152083a",
   "metadata": {},
   "outputs": [
    {
     "name": "stdout",
     "output_type": "stream",
     "text": [
      "Enter first Number12\n",
      "Enter Second Number21\n",
      "33 <class 'int'> <class 'str'>\n"
     ]
    }
   ],
   "source": [
    "fnum=input('Enter first Number')\n",
    "snum=input('Enter Second Number')\n",
    "result=int(fnum)+int(snum)\n",
    "print(result,type(result),type(fnum))"
   ]
  },
  {
   "cell_type": "markdown",
   "id": "92a15c94",
   "metadata": {},
   "source": [
    "# Literals "
   ]
  },
  {
   "cell_type": "code",
   "execution_count": 80,
   "id": "a8d80887",
   "metadata": {},
   "outputs": [
    {
     "name": "stdout",
     "output_type": "stream",
     "text": [
      "10\n"
     ]
    }
   ],
   "source": [
    "# Jo raw value ko store krte h woh literal hota h eg\n",
    "#a=10\n",
    "#yhaa 10 literal h \n",
    "\n"
   ]
  },
  {
   "cell_type": "code",
   "execution_count": 81,
   "id": "4dcd8e9e",
   "metadata": {},
   "outputs": [
    {
     "name": "stdout",
     "output_type": "stream",
     "text": [
      "10\n"
     ]
    }
   ],
   "source": [
    "#Binary\n",
    "# We are trying to set the value in binary \n",
    "a=0b1010\n",
    "print(a)"
   ]
  },
  {
   "cell_type": "code",
   "execution_count": 82,
   "id": "abab7489",
   "metadata": {},
   "outputs": [],
   "source": [
    "# decimal Repsentation\n",
    "b=100 "
   ]
  },
  {
   "cell_type": "code",
   "execution_count": 84,
   "id": "9350fbb4",
   "metadata": {},
   "outputs": [
    {
     "name": "stdout",
     "output_type": "stream",
     "text": [
      "200\n"
     ]
    }
   ],
   "source": [
    "# occtal Repsentation\n",
    "b=0o310\n",
    "print(b)"
   ]
  },
  {
   "cell_type": "code",
   "execution_count": 87,
   "id": "7fdec127",
   "metadata": {},
   "outputs": [
    {
     "name": "stdout",
     "output_type": "stream",
     "text": [
      "0.0015\n"
     ]
    }
   ],
   "source": [
    "# Float Literal \n",
    "float_1=10.3\n",
    "float_2=1.5e3  # 1.5*1000\n",
    "float_3=1.5e-3\n",
    "print(float_3)"
   ]
  },
  {
   "cell_type": "code",
   "execution_count": 89,
   "id": "1d3d2b67",
   "metadata": {},
   "outputs": [
    {
     "name": "stdout",
     "output_type": "stream",
     "text": [
      "3.14j 0.0 3.14\n"
     ]
    }
   ],
   "source": [
    "# complex Literal \n",
    "x=3.14j\n",
    "print(x,x.real,x.imag)"
   ]
  },
  {
   "cell_type": "code",
   "execution_count": 101,
   "id": "5f1c214d",
   "metadata": {},
   "outputs": [
    {
     "name": "stdout",
     "output_type": "stream",
     "text": [
      "a: 5 \n",
      "b: -2\n"
     ]
    }
   ],
   "source": [
    "a=True+4\n",
    "b=False-2\n",
    "print('a:',a,'\\nb:',b)"
   ]
  },
  {
   "cell_type": "code",
   "execution_count": null,
   "id": "1a593f1c",
   "metadata": {},
   "outputs": [],
   "source": []
  }
 ],
 "metadata": {
  "kernelspec": {
   "display_name": "Python 3",
   "language": "python",
   "name": "python3"
  },
  "language_info": {
   "codemirror_mode": {
    "name": "ipython",
    "version": 3
   },
   "file_extension": ".py",
   "mimetype": "text/x-python",
   "name": "python",
   "nbconvert_exporter": "python",
   "pygments_lexer": "ipython3",
   "version": "3.8.8"
  }
 },
 "nbformat": 4,
 "nbformat_minor": 5
}
