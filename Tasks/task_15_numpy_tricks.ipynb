{
 "cells": [
  {
   "cell_type": "markdown",
   "metadata": {
    "id": "J88qfqQEk_sT"
   },
   "source": [
    "###`Q-1:` Create a random 3x4 matrix with value between 0-100. And perform below tasks\n",
    "\n",
    "    i. Sort this matrix. np.sort()\n",
    "    ii. Sort this matrix based on values in 2nd column.\n",
    "    iii. Sort this matrix based on max value in each row.\n",
    "    iv. Sort based on elements value.\n"
   ]
  },
  {
   "cell_type": "markdown",
   "metadata": {
    "id": "xpOwOdhqlE9R"
   },
   "source": [
    "See examples:\n",
    "```\n",
    "arr = \n",
    "    [[92 90 74]\n",
    "    [ 6 63 93]\n",
    "    [15 93 96]\n",
    "    [70 60 48]]\n",
    "```\n",
    "```\n",
    "i. np.sort\n",
    "[[74 90 92]\n",
    " [ 6 63 93]\n",
    " [15 93 96]\n",
    " [48 60 70]]\n",
    "\n",
    "ii. based on 2nd column\n",
    "[[70 60 48]\n",
    " [ 6 63 93]\n",
    " [92 90 74]\n",
    " [15 93 96]]\n",
    "\n",
    "iii. based on row max- ascending\n",
    "[[15 93 96]\n",
    " [ 6 63 93]\n",
    " [92 90 74]\n",
    " [70 60 48]]\n",
    "\n",
    "iv. based on elements value\n",
    "[[ 6 15 48]\n",
    " [60 63 70]\n",
    " [74 90 92]\n",
    " [93 93 96]]\n",
    "\n",
    "```"
   ]
  },
  {
   "cell_type": "code",
   "execution_count": 11,
   "metadata": {
    "id": "Auy-guUwlALv"
   },
   "outputs": [
    {
     "name": "stdout",
     "output_type": "stream",
     "text": [
      "[[92 90 74]\n",
      " [ 6 63 93]\n",
      " [15 93 96]\n",
      " [70 60 48]]\n",
      "i==\n",
      " [[74 90 92]\n",
      " [ 6 63 93]\n",
      " [15 93 96]\n",
      " [48 60 70]]\n",
      "\n",
      "[[74 90 92]\n",
      " [ 6 63 93]\n",
      " [15 93 96]\n",
      " [48 60 70]]\n",
      "[[ 6 15 48]\n",
      " [60 63 70]\n",
      " [74 90 92]\n",
      " [93 93 96]]\n"
     ]
    }
   ],
   "source": [
    "# My code here\n",
    "import numpy as np\n",
    "arr =np.array([[92,90,74],[6,63,93],[15,93,96],[70,60,48]])\n",
    "print(arr)\n",
    "#i\n",
    "print('i==\\n',np.sort(arr,axis=1))\n",
    "print()\n",
    "#print('ii--\\n',np.sort(arr[:,1],axis=0))\n",
    "print(np.sort(arr))\n",
    "#sort array based on elements\n",
    "print(np.sort(arr,axis=None).reshape(-1,3))"
   ]
  },
  {
   "cell_type": "code",
   "execution_count": 10,
   "metadata": {},
   "outputs": [
    {
     "name": "stdout",
     "output_type": "stream",
     "text": [
      "[[72 49 83]\n",
      " [ 2  9 64]\n",
      " [78 55  9]\n",
      " [12 86 15]]\n",
      "[[49 72 83]\n",
      " [ 2  9 64]\n",
      " [ 9 55 78]\n",
      " [12 15 86]]\n",
      "[[ 2  9 64]\n",
      " [72 49 83]\n",
      " [78 55  9]\n",
      " [12 86 15]]\n"
     ]
    },
    {
     "data": {
      "text/plain": [
       "array([[ 2,  9, 64],\n",
       "       [78, 55,  9],\n",
       "       [72, 49, 83],\n",
       "       [12, 86, 15]])"
      ]
     },
     "execution_count": 10,
     "metadata": {},
     "output_type": "execute_result"
    }
   ],
   "source": [
    "import numpy as np\n",
    "arr=np.random.randint(0,100,(4,3))\n",
    "print(arr)\n",
    "print(np.sort(arr))\n",
    "#sort based on 2nd Column\n",
    "print(arr[arr[:,1].argsort()])\n",
    "#sort based on max row number\n",
    "print(np.array(sorted(arr,key=lambda x:max(x))))\n",
    "#"
   ]
  },
  {
   "cell_type": "markdown",
   "metadata": {
    "id": "Jx_I3gx9lBay"
   },
   "source": [
    "###`Q-2:` There is an array of marks of 5 students in 4 subjects. Further you are asked to perform below task.\n",
    "    i. Add marks every student of an extra subject in the same array.\n",
    "    ii. Add two new students marks in respective 5 subjects.(one subject added in above task)\n",
    "    iii. Add extra column with sum of all subjects(5-subjects) marks\n",
    "    iv. Sort the array(non-ascending order) on total marks column--one added in above task. Show top 2 rows.\n",
    "\n",
    "Note: Change dimension of arrays during concatenation or appending if required."
   ]
  },
  {
   "cell_type": "markdown",
   "metadata": {
    "id": "lXF-CE6ylNIw"
   },
   "source": [
    "Given Array-\n",
    "```\n",
    "marks = [[13, 10,  9, 33],\n",
    "       [63, 46, 90, 42],\n",
    "       [39, 76, 13, 29],\n",
    "       [82,  9, 29, 78],\n",
    "       [67, 61, 59, 36]]\n",
    "\n",
    "extra_subject = [41, 87, 72, 36, 92]\n",
    "#Two extra students record-\n",
    "rec1 = [77, 83, 98, 95, 89]\n",
    "rec2 = [92, 71, 52, 61, 53]\n",
    "```"
   ]
  },
  {
   "cell_type": "code",
   "execution_count": 12,
   "metadata": {
    "id": "7YKsWO2olMkq"
   },
   "outputs": [
    {
     "name": "stdout",
     "output_type": "stream",
     "text": [
      "[[41]\n",
      " [87]\n",
      " [72]\n",
      " [36]\n",
      " [92]]\n"
     ]
    },
    {
     "data": {
      "text/plain": [
       "array([13, 10,  9, 33, 63, 46, 90, 42, 39, 76, 13, 29, 82,  9, 29, 78, 67,\n",
       "       61, 59, 36, 41, 87, 72, 36, 92])"
      ]
     },
     "execution_count": 12,
     "metadata": {},
     "output_type": "execute_result"
    }
   ],
   "source": [
    "# My code here\n",
    "marks = [[13,10,9,33],\n",
    "       [63,46,90,42],\n",
    "       [39,76,13,29],\n",
    "       [82,9,29,78],\n",
    "       [67,61,59,36]]\n",
    "extra_subject=[41,87,72,36,92]\n",
    "print(np.expand_dims(extra_subject,axis=1))\n",
    "np.append(marks,np.expand_dims(extra_subject,axis=1))"
   ]
  },
  {
   "cell_type": "code",
   "execution_count": 27,
   "metadata": {},
   "outputs": [
    {
     "name": "stdout",
     "output_type": "stream",
     "text": [
      "[[41]\n",
      " [87]\n",
      " [72]\n",
      " [36]\n",
      " [92]]\n",
      "[[13 10  9 33 41]\n",
      " [63 46 90 42 87]\n",
      " [39 76 13 29 72]\n",
      " [82  9 29 78 36]\n",
      " [67 61 59 36 92]]\n",
      "[[13 10  9 33 41]\n",
      " [63 46 90 42 87]\n",
      " [39 76 13 29 72]\n",
      " [82  9 29 78 36]\n",
      " [67 61 59 36 92]\n",
      " [77 83 98 95 89]\n",
      " [92 71 52 61 53]]\n",
      "[[ 13  10   9  33  41 106]\n",
      " [ 63  46  90  42  87 328]\n",
      " [ 39  76  13  29  72 229]\n",
      " [ 82   9  29  78  36 234]\n",
      " [ 67  61  59  36  92 315]\n",
      " [ 77  83  98  95  89 442]\n",
      " [ 92  71  52  61  53 329]]\n",
      "[[ 77  83  98  95  89 442]\n",
      " [ 92  71  52  61  53 329]]\n"
     ]
    }
   ],
   "source": [
    "#Sir k Code\n",
    "marks =np.array([[13,10,9,33],\n",
    "       [63,46,90,42],\n",
    "       [39,76,13,29],\n",
    "       [82,9,29,78],\n",
    "       [67,61,59,36]])\n",
    "extra_subject=np.array([41,87,72,36,92]).reshape(-1,1)\n",
    "print(extra_subject)\n",
    "#add extra_subject to marks\n",
    "marks=np.concatenate((marks,extra_subject),axis=1)\n",
    "print(marks)\n",
    "\n",
    "#add Two extra students record-\n",
    "rec1 = np.array([77, 83, 98, 95, 89]).reshape(1,-1)\n",
    "rec2 = np.array([92, 71, 52, 61, 53]).reshape(1,-1)\n",
    "marks=np.concatenate((marks,rec1,rec2),axis=0)\n",
    "print(marks)\n",
    "\n",
    "\n",
    "#add column with will give the sum of all the subject\n",
    "sum_sub=marks.sum(axis=1).reshape(-1,1)\n",
    "marks=np.concatenate((marks,sum_sub),axis=1)\n",
    "print(marks)\n",
    "\n",
    "#iv. Sort the array(non-ascending order) on total marks column--one added in above task. Show top 2 rows.\n",
    "print(np.array(sorted(marks,key=lambda x:x[-1],reverse=True))[:2,:])\n"
   ]
  },
  {
   "cell_type": "markdown",
   "metadata": {
    "id": "VmOyK_8klRqR"
   },
   "source": [
    "###`Q-3:` Find unique arrays from a 2D array column wise and row wise.\n",
    "```\n",
    "arr = np.array([[1,2,3,3,1,1],\n",
    "                [0,9,1,2,8,8],\n",
    "                [1,2,3,8,8,8],\n",
    "                [1,2,3,3,1,1]])\n",
    "```\n",
    "Expected Result-\n",
    "```\n",
    "Row Wise\n",
    "[[0 9 1 2 8 8]\n",
    " [1 2 3 3 1 1]\n",
    " [1 2 3 8 8 8]]\n",
    "\n",
    "Col Wise\n",
    "[[1 1 2 3 3]\n",
    " [0 8 9 1 2]\n",
    " [1 8 2 3 8]\n",
    " [1 1 2 3 3]]\n",
    "```"
   ]
  },
  {
   "cell_type": "code",
   "execution_count": 28,
   "metadata": {
    "id": "LJl10VQrlU5q"
   },
   "outputs": [
    {
     "name": "stdout",
     "output_type": "stream",
     "text": [
      "[[0 9 1 2 8 8]\n",
      " [1 2 3 3 1 1]\n",
      " [1 2 3 8 8 8]]\n",
      "[[1 1 2 3 3]\n",
      " [0 8 9 1 2]\n",
      " [1 8 2 3 8]\n",
      " [1 1 2 3 3]]\n"
     ]
    }
   ],
   "source": [
    "# code here\n",
    "arr = np.array([[1,2,3,3,1,1],\n",
    "                [0,9,1,2,8,8],\n",
    "                [1,2,3,8,8,8],\n",
    "                [1,2,3,3,1,1]])\n",
    "print(np.unique(arr,axis=0))#rows unique\n",
    "print(np.unique(arr,axis=1))#columns wise\n"
   ]
  },
  {
   "cell_type": "markdown",
   "metadata": {
    "id": "RaXwVkywlWY2"
   },
   "source": [
    "###`Q-4:` Flip given 2-D array along both axes at the same time."
   ]
  },
  {
   "cell_type": "code",
   "execution_count": 30,
   "metadata": {
    "id": "mN7-4G8Kleeq"
   },
   "outputs": [
    {
     "name": "stdout",
     "output_type": "stream",
     "text": [
      "[[1 2 3 3 1 1]\n",
      " [0 9 1 2 8 8]\n",
      " [1 2 3 8 8 8]\n",
      " [1 2 3 3 1 1]]\n",
      "[[1 1 3 3 2 1]\n",
      " [8 8 8 3 2 1]\n",
      " [8 8 2 1 9 0]\n",
      " [1 1 3 3 2 1]]\n"
     ]
    }
   ],
   "source": [
    "# code here\n",
    "print(arr)\n",
    "print(np.flip(arr,axis=[0,1]))"
   ]
  },
  {
   "cell_type": "markdown",
   "metadata": {
    "id": "X0S7BUNTlfoq"
   },
   "source": [
    "### `Q-5:` Get row numbers of NumPy array having element larger than X.\n",
    "```\n",
    "arr = [[1,2,3,4,5], \n",
    "      [10,-3,30,4,5], \n",
    "      [3,2,5,-4,5], \n",
    "      [9,7,3,6,5]] \n",
    "\n",
    "X = 6\n",
    "```"
   ]
  },
  {
   "cell_type": "code",
   "execution_count": 34,
   "metadata": {},
   "outputs": [
    {
     "data": {
      "text/plain": [
       "(array([1, 3], dtype=int64),)"
      ]
     },
     "execution_count": 34,
     "metadata": {},
     "output_type": "execute_result"
    }
   ],
   "source": [
    "#Sir ka shi Code using np.any\n",
    "arr =np.array([[1,2,3,4,5], \n",
    "      [10,-3,30,4,5], \n",
    "      [3,2,5,-4,5], \n",
    "      [9,7,3,6,5]])\n",
    "np.where(np.any(arr>6,axis=1))"
   ]
  },
  {
   "cell_type": "code",
   "execution_count": 36,
   "metadata": {
    "id": "bi8jRmWhlkBU"
   },
   "outputs": [
    {
     "data": {
      "text/plain": [
       "array([1, 3], dtype=int64)"
      ]
     },
     "execution_count": 36,
     "metadata": {},
     "output_type": "execute_result"
    }
   ],
   "source": [
    "# code here\n",
    "arr =np.array([[1,2,3,4,5], \n",
    "      [10,-3,30,4,5], \n",
    "      [3,2,5,-4,5], \n",
    "      [9,7,3,6,5]])\n",
    "np.unique(np.where(arr>6)[0])"
   ]
  },
  {
   "cell_type": "markdown",
   "metadata": {
    "id": "DSCQMo4mlnDG"
   },
   "source": [
    "### `Q-6:` How to convert an array of arrays into a flat 1d array?\n"
   ]
  },
  {
   "cell_type": "code",
   "execution_count": 39,
   "metadata": {
    "id": "QZhSkUT2lsJW"
   },
   "outputs": [],
   "source": [
    "# These arrays are given.\n",
    "arr1 = np.arange(3)\n",
    "arr2 = np.arange(3,7)\n",
    "arr3 = np.arange(7,10)"
   ]
  },
  {
   "cell_type": "code",
   "execution_count": 40,
   "metadata": {
    "id": "f42OXNrFls0I"
   },
   "outputs": [
    {
     "data": {
      "text/plain": [
       "array([0, 1, 2, 3, 4, 5, 6, 7, 8, 9])"
      ]
     },
     "execution_count": 40,
     "metadata": {},
     "output_type": "execute_result"
    }
   ],
   "source": [
    "# code here\n",
    "np.concatenate([arr1,arr2,arr3])"
   ]
  },
  {
   "cell_type": "markdown",
   "metadata": {
    "id": "A1J4oOVCluqO"
   },
   "source": [
    "### `Q-7:` You are given a array. You have to find the minimum and maximum array element and remove that from the array.\n",
    "\n",
    "```python\n",
    "import numpy as np\n",
    "\n",
    "np.random.seed(400)\n",
    "arr = np.random.randint(100, 1000, 200).reshape((1, 200))\n",
    "```"
   ]
  },
  {
   "cell_type": "code",
   "execution_count": 78,
   "metadata": {
    "id": "c6kmgtUJlybZ"
   },
   "outputs": [],
   "source": [
    "# code here\n",
    "import numpy as np\n",
    "\n",
    "np.random.seed(400)\n",
    "arr = np.random.randint(100, 1000, 200).reshape((1, 200))"
   ]
  },
  {
   "cell_type": "code",
   "execution_count": 87,
   "metadata": {},
   "outputs": [
    {
     "data": {
      "text/plain": [
       "array([[448, 563, 418, 240, 507, 362, 345, 236, 719, 291, 298, 639, 458,\n",
       "        387, 262, 613, 267, 882, 181, 425, 790, 635, 889, 818, 872, 967,\n",
       "        277, 470, 336, 920, 917, 295, 557, 830, 506, 385, 353, 975, 592,\n",
       "        997, 137, 340, 222, 215, 472, 459, 617, 649, 935, 956, 914, 932,\n",
       "        645, 952, 921, 490, 527, 972, 278, 307, 840, 958, 246, 449, 251,\n",
       "        957, 103, 627, 920, 824, 356, 825, 173, 323, 372, 960, 710, 464,\n",
       "        244, 782, 763, 635, 436, 774, 171, 469, 178, 458, 624, 211, 771,\n",
       "        270, 308, 231, 952, 514, 699, 702, 433, 900, 373, 318, 998, 265,\n",
       "        503, 320, 230, 324, 922, 967, 620, 743, 527, 117, 566, 804, 123,\n",
       "        946, 587, 227, 853, 757, 944, 328, 855, 930, 325, 729, 426, 514,\n",
       "        296, 879, 575, 936, 705, 209, 191, 743, 510, 513, 628, 559, 658,\n",
       "        528, 395, 525, 922, 136, 496, 225, 895, 975, 263, 908, 420, 711,\n",
       "        800, 976, 786, 235, 930, 859, 618, 226, 695, 460, 218, 483, 490,\n",
       "        803, 621, 453, 193, 607, 677, 637, 728, 724, 534, 748, 291, 194,\n",
       "        761, 875, 687, 569, 228, 482, 781, 554, 654, 739, 885, 197, 266,\n",
       "        228, 892, 207, 883, 588]])"
      ]
     },
     "execution_count": 87,
     "metadata": {},
     "output_type": "execute_result"
    }
   ],
   "source": [
    "arr"
   ]
  },
  {
   "cell_type": "code",
   "execution_count": 88,
   "metadata": {},
   "outputs": [
    {
     "data": {
      "text/plain": [
       "998"
      ]
     },
     "execution_count": 88,
     "metadata": {},
     "output_type": "execute_result"
    }
   ],
   "source": [
    "arr[0,np.argmax(arr)]"
   ]
  },
  {
   "cell_type": "code",
   "execution_count": 91,
   "metadata": {},
   "outputs": [
    {
     "data": {
      "text/plain": [
       "array([448, 563, 418, 240, 507, 362, 345, 236, 719, 291, 298, 639, 458,\n",
       "       387, 262, 613, 267, 882, 181, 425, 790, 635, 889, 818, 872, 967,\n",
       "       277, 470, 336, 920, 917, 295, 557, 830, 506, 385, 353, 975, 592,\n",
       "       997, 137, 340, 222, 215, 472, 459, 617, 649, 935, 956, 914, 932,\n",
       "       645, 952, 921, 490, 527, 972, 278, 307, 840, 958, 246, 449, 251,\n",
       "       957, 103, 627, 920, 824, 356, 825, 173, 323, 372, 960, 710, 464,\n",
       "       244, 782, 763, 635, 436, 774, 171, 469, 178, 458, 624, 211, 771,\n",
       "       270, 308, 231, 952, 514, 699, 702, 433, 900, 373, 318, 265, 503,\n",
       "       320, 230, 324, 922, 967, 620, 743, 527, 117, 566, 804, 123, 946,\n",
       "       587, 227, 853, 757, 944, 328, 855, 930, 325, 729, 426, 514, 296,\n",
       "       879, 575, 936, 705, 209, 191, 743, 510, 513, 628, 559, 658, 528,\n",
       "       395, 525, 922, 136, 496, 225, 895, 975, 263, 908, 420, 711, 800,\n",
       "       976, 786, 235, 930, 859, 618, 226, 695, 460, 218, 483, 490, 803,\n",
       "       621, 453, 193, 607, 677, 637, 728, 724, 534, 748, 291, 194, 761,\n",
       "       875, 687, 569, 228, 482, 781, 554, 654, 739, 885, 197, 266, 228,\n",
       "       892, 207, 883, 588])"
      ]
     },
     "execution_count": 91,
     "metadata": {},
     "output_type": "execute_result"
    }
   ],
   "source": [
    "np.delete(arr,np.argmax(arr))"
   ]
  },
  {
   "cell_type": "code",
   "execution_count": 90,
   "metadata": {},
   "outputs": [
    {
     "data": {
      "text/plain": [
       "103"
      ]
     },
     "execution_count": 90,
     "metadata": {},
     "output_type": "execute_result"
    }
   ],
   "source": [
    "arr[0,np.argmin(arr)]"
   ]
  },
  {
   "cell_type": "code",
   "execution_count": 92,
   "metadata": {},
   "outputs": [
    {
     "data": {
      "text/plain": [
       "array([[448, 563, 418, 240, 507, 362, 345, 236, 719, 291, 298, 639, 458,\n",
       "        387, 262, 613, 267, 882, 181, 425, 790, 635, 889, 818, 872, 967,\n",
       "        277, 470, 336, 920, 917, 295, 557, 830, 506, 385, 353, 975, 592,\n",
       "        997, 137, 340, 222, 215, 472, 459, 617, 649, 935, 956, 914, 932,\n",
       "        645, 952, 921, 490, 527, 972, 278, 307, 840, 958, 246, 449, 251,\n",
       "        957, 103, 627, 920, 824, 356, 825, 173, 323, 372, 960, 710, 464,\n",
       "        244, 782, 763, 635, 436, 774, 171, 469, 178, 458, 624, 211, 771,\n",
       "        270, 308, 231, 952, 514, 699, 702, 433, 900, 373, 318, 998, 265,\n",
       "        503, 320, 230, 324, 922, 967, 620, 743, 527, 117, 566, 804, 123,\n",
       "        946, 587, 227, 853, 757, 944, 328, 855, 930, 325, 729, 426, 514,\n",
       "        296, 879, 575, 936, 705, 209, 191, 743, 510, 513, 628, 559, 658,\n",
       "        528, 395, 525, 922, 136, 496, 225, 895, 975, 263, 908, 420, 711,\n",
       "        800, 976, 786, 235, 930, 859, 618, 226, 695, 460, 218, 483, 490,\n",
       "        803, 621, 453, 193, 607, 677, 637, 728, 724, 534, 748, 291, 194,\n",
       "        761, 875, 687, 569, 228, 482, 781, 554, 654, 739, 885, 197, 266,\n",
       "        228, 892, 207, 883, 588]])"
      ]
     },
     "execution_count": 92,
     "metadata": {},
     "output_type": "execute_result"
    }
   ],
   "source": [
    "arr"
   ]
  },
  {
   "cell_type": "code",
   "execution_count": 93,
   "metadata": {},
   "outputs": [
    {
     "data": {
      "text/plain": [
       "array([448, 563, 418, 240, 507, 362, 345, 236, 719, 291, 298, 639, 458,\n",
       "       387, 262, 613, 267, 882, 181, 425, 790, 635, 889, 818, 872, 967,\n",
       "       277, 470, 336, 920, 917, 295, 557, 830, 506, 385, 353, 975, 592,\n",
       "       997, 137, 340, 222, 215, 472, 459, 617, 649, 935, 956, 914, 932,\n",
       "       645, 952, 921, 490, 527, 972, 278, 307, 840, 958, 246, 449, 251,\n",
       "       957, 627, 920, 824, 356, 825, 173, 323, 372, 960, 710, 464, 244,\n",
       "       782, 763, 635, 436, 774, 171, 469, 178, 458, 624, 211, 771, 270,\n",
       "       308, 231, 952, 514, 699, 702, 433, 900, 373, 318, 998, 265, 503,\n",
       "       320, 230, 324, 922, 967, 620, 743, 527, 117, 566, 804, 123, 946,\n",
       "       587, 227, 853, 757, 944, 328, 855, 930, 325, 729, 426, 514, 296,\n",
       "       879, 575, 936, 705, 209, 191, 743, 510, 513, 628, 559, 658, 528,\n",
       "       395, 525, 922, 136, 496, 225, 895, 975, 263, 908, 420, 711, 800,\n",
       "       976, 786, 235, 930, 859, 618, 226, 695, 460, 218, 483, 490, 803,\n",
       "       621, 453, 193, 607, 677, 637, 728, 724, 534, 748, 291, 194, 761,\n",
       "       875, 687, 569, 228, 482, 781, 554, 654, 739, 885, 197, 266, 228,\n",
       "       892, 207, 883, 588])"
      ]
     },
     "execution_count": 93,
     "metadata": {},
     "output_type": "execute_result"
    }
   ],
   "source": [
    "np.delete(arr,np.argmin(arr))"
   ]
  },
  {
   "cell_type": "markdown",
   "metadata": {
    "id": "0dHN1sdnl0Jy"
   },
   "source": [
    "### `Q-8:` You are given an arrays. You have to limit this array's elements between 100 to 200. $arr ∈ [100, 700]$. So replace those values accordingly with the minimum and maximum value. Then sort the array and perform the cumulative sum of that array."
   ]
  },
  {
   "cell_type": "code",
   "execution_count": 102,
   "metadata": {
    "id": "a3YF_E-Hlza7"
   },
   "outputs": [
    {
     "name": "stdout",
     "output_type": "stream",
     "text": [
      "[340 129 463 443 524 197 523 662 571 637]\n",
      "[200 129 200 200 200 197 200 200 200 200]\n",
      "[129 197 200 200 200 200 200 200 200 200]\n"
     ]
    },
    {
     "data": {
      "text/plain": [
       "array([ 129,  326,  526,  726,  926, 1126, 1326, 1526, 1726, 1926],\n",
       "      dtype=int32)"
      ]
     },
     "execution_count": 102,
     "metadata": {},
     "output_type": "execute_result"
    }
   ],
   "source": [
    "# code here\n",
    "arr=np.random.randint(100,700,10)\n",
    "print(arr)\n",
    "arr=arr.clip(100,200)\n",
    "print(arr)\n",
    "arr=np.sort(arr)\n",
    "print(arr)\n",
    "np.cumsum(arr)"
   ]
  },
  {
   "cell_type": "markdown",
   "metadata": {
    "id": "cXj90Susl4-I"
   },
   "source": [
    "### `Q-9:` You are given a array ($arr ∈ [0, 1]$). First you have round off the elements upto 3 decimal places and compare that\n",
    "- 0th percentile == minimum value of the array\n",
    "- 100th percentile == maximum value of the array\n",
    "- also find the difference betwen 51th percenile and 50th percentile values"
   ]
  },
  {
   "cell_type": "code",
   "execution_count": 42,
   "metadata": {
    "id": "SgBEHodgl7Lo",
    "scrolled": true
   },
   "outputs": [
    {
     "name": "stdout",
     "output_type": "stream",
     "text": [
      "[0.98075268 0.39300353 0.17577617 0.60864612 0.11424243 0.01134365\n",
      " 0.41929829 0.07902473 0.00673664 0.34397174 0.30910187 0.82953737\n",
      " 0.3337228  0.14766079 0.69611825 0.73636098 0.39532036 0.27632201\n",
      " 0.91950315 0.9349746  0.22166568 0.42974373 0.68080542 0.48072058\n",
      " 0.74792497 0.89255942 0.54768646 0.56579862 0.92903106 0.19499544\n",
      " 0.64201342 0.40503014 0.79920004 0.93289982 0.15379172 0.87597506\n",
      " 0.47012835 0.7910476  0.54946733 0.0258041  0.08468146 0.4544235\n",
      " 0.07118497 0.79658163 0.40068467 0.8380174  0.45432315 0.43571153\n",
      " 0.40025534 0.15953643 0.19344388 0.49061865 0.48101087 0.53831366\n",
      " 0.78281695 0.67303325 0.425004   0.09682484 0.50122405 0.80982492\n",
      " 0.23410432 0.66897394 0.19880221 0.2428051  0.65272368 0.83753612\n",
      " 0.26467711 0.18611446 0.50983086 0.81815127 0.49039409 0.63487748\n",
      " 0.33040376 0.51094455 0.86051298 0.27238922 0.07730484 0.34270206\n",
      " 0.19014881 0.05716238 0.84324686 0.22366672 0.13183421 0.33492168\n",
      " 0.85075388 0.25727505 0.91568392 0.47927837 0.36811304 0.71687644\n",
      " 0.61961472 0.56818724 0.87928863 0.66609019 0.7501664  0.02742083\n",
      " 0.79831136 0.39762437 0.35511597 0.59519678]\n",
      "[0.981 0.393 0.176 0.609 0.114 0.011 0.419 0.079 0.007 0.344 0.309 0.83\n",
      " 0.334 0.148 0.696 0.736 0.395 0.276 0.92  0.935 0.222 0.43  0.681 0.481\n",
      " 0.748 0.893 0.548 0.566 0.929 0.195 0.642 0.405 0.799 0.933 0.154 0.876\n",
      " 0.47  0.791 0.549 0.026 0.085 0.454 0.071 0.797 0.401 0.838 0.454 0.436\n",
      " 0.4   0.16  0.193 0.491 0.481 0.538 0.783 0.673 0.425 0.097 0.501 0.81\n",
      " 0.234 0.669 0.199 0.243 0.653 0.838 0.265 0.186 0.51  0.818 0.49  0.635\n",
      " 0.33  0.511 0.861 0.272 0.077 0.343 0.19  0.057 0.843 0.224 0.132 0.335\n",
      " 0.851 0.257 0.916 0.479 0.368 0.717 0.62  0.568 0.879 0.666 0.75  0.027\n",
      " 0.798 0.398 0.355 0.595]\n",
      "0.981\n",
      "0.007\n"
     ]
    }
   ],
   "source": [
    "# code here\n",
    "\n",
    "arr=np.random.random(100)\n",
    "print(arr)\n",
    "arr=np.around(arr,decimals=3)\n",
    "print(arr)\n",
    "print(np.percentile(arr,100))\n",
    "print(np.percentile(arr,0))\n"
   ]
  },
  {
   "cell_type": "code",
   "execution_count": 43,
   "metadata": {},
   "outputs": [
    {
     "name": "stdout",
     "output_type": "stream",
     "text": [
      "0.005479999999999985\n"
     ]
    }
   ],
   "source": [
    "print(np.percentile(arr,51)-np.percentile(arr,50))"
   ]
  },
  {
   "cell_type": "code",
   "execution_count": null,
   "metadata": {},
   "outputs": [],
   "source": []
  }
 ],
 "metadata": {
  "colab": {
   "provenance": []
  },
  "kernelspec": {
   "display_name": "Python 3",
   "language": "python",
   "name": "python3"
  },
  "language_info": {
   "codemirror_mode": {
    "name": "ipython",
    "version": 3
   },
   "file_extension": ".py",
   "mimetype": "text/x-python",
   "name": "python",
   "nbconvert_exporter": "python",
   "pygments_lexer": "ipython3",
   "version": "3.8.8"
  }
 },
 "nbformat": 4,
 "nbformat_minor": 1
}
