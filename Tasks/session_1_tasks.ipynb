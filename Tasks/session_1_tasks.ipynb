{
 "cells": [
  {
   "cell_type": "markdown",
   "metadata": {
    "id": "A05OG15VqOPF"
   },
   "source": [
    "# Task : Session 1\n",
    "Solve these questions own your own and try to test yourself what you have learned in the session.\n",
    "\n",
    "Happy Learning!"
   ]
  },
  {
   "cell_type": "markdown",
   "metadata": {
    "id": "2doIXf8bqe9_"
   },
   "source": [
    "### Q1 :- Print the given strings as per stated format.\n",
    "\n",
    "**Given strings**: \n",
    "```\n",
    "\"Data\" \"Science\" \"Mentorship\" \"Program\" \n",
    "\"By\" \"CampusX\"\n",
    "```\n",
    "**Output**: \n",
    "``` \n",
    "Data-Science-Mentorship-Program-started-By-CampusX\n",
    "```\n",
    "\n",
    "Concept- [Seperator and End]"
   ]
  },
  {
   "cell_type": "code",
   "execution_count": 2,
   "metadata": {
    "id": "-em6d3KErDtp"
   },
   "outputs": [
    {
     "name": "stdout",
     "output_type": "stream",
     "text": [
      "Data-Science-Mentorship-Program-started-By-CampusX\n"
     ]
    }
   ],
   "source": [
    "# Write your code here\n",
    "print(\"Data\",\"Science\",\"Mentorship\",\"Program\",sep='-',end='-')\n",
    "print(\"started\",\"By\",\"CampusX\",sep='-')"
   ]
  },
  {
   "cell_type": "markdown",
   "metadata": {
    "id": "1KUpN7ZTrC3_"
   },
   "source": [
    "### Q2:- Write a program that will convert celsius value to fahrenheit."
   ]
  },
  {
   "cell_type": "code",
   "execution_count": 6,
   "metadata": {
    "id": "yxKYhYQiqWfj"
   },
   "outputs": [
    {
     "name": "stdout",
     "output_type": "stream",
     "text": [
      "Enter the temp in Celcius-7\n",
      "19.4 F\n"
     ]
    }
   ],
   "source": [
    "# Write your code here\n",
    "# Take the input fromuser for Celcius\n",
    "temp_in_C=float(input('Enter the temp in Celcius'))\n",
    "temp_in_f=((temp_in_C*9)/5)+32\n",
    "print(temp_in_f,'F')"
   ]
  },
  {
   "cell_type": "markdown",
   "metadata": {
    "id": "RLrOBBJurLB2"
   },
   "source": [
    "### Q3:- Take 2 numbers as input from the user.Write a program to swap the numbers without using any special python syntax."
   ]
  },
  {
   "cell_type": "code",
   "execution_count": 2,
   "metadata": {
    "id": "yPn7if0TrJ4F"
   },
   "outputs": [
    {
     "name": "stdout",
     "output_type": "stream",
     "text": [
      "Enter the first number1\n",
      "Enter the second number4\n",
      "After Swapping \n",
      "  First Number is:- 4 \n",
      " The Second number is:-  1\n"
     ]
    }
   ],
   "source": [
    "# Write your code here\n",
    "f_num=int(input('Enter the first number'))\n",
    "s_num=int(input('Enter the second number'))\n",
    "#print('Before Swapping \\n First Number is:-',f_num,'\\n The Second number is:- ',s_num)\n",
    "a=f_num\n",
    "f_num=s_num\n",
    "s_num=a\n",
    "print('After Swapping \\n  First Number is:-',f_num,'\\n The Second number is:- ',s_num)"
   ]
  },
  {
   "cell_type": "markdown",
   "metadata": {
    "id": "waLCP1bjr7ML"
   },
   "source": [
    "### Q4:- Write a program to find the euclidean distance between two coordinates.Take both the coordinates from the user as input."
   ]
  },
  {
   "cell_type": "code",
   "execution_count": 4,
   "metadata": {
    "id": "Pl1Sv-xnrxnH"
   },
   "outputs": [
    {
     "name": "stdout",
     "output_type": "stream",
     "text": [
      "Enter the x1 point0\n",
      "Enter the y1 point4\n",
      "Enter the x2point6\n",
      "Enter the y2point2\n",
      "6.324555320336759\n"
     ]
    }
   ],
   "source": [
    "# Write your code here\n",
    "import numpy as np\n",
    "x1,y1=int(input('Enter the x1 point')),int(input('Enter the y1 point'))\n",
    "x2,y2=int(input('Enter the x2point')),int(input('Enter the y2point'))\n",
    "distance=np.sqrt(((x2-x1)**2)+((y2-y1)**2))\n",
    "print(distance)"
   ]
  },
  {
   "cell_type": "markdown",
   "metadata": {
    "id": "VLrhg-FRsHjR"
   },
   "source": [
    "### Q5:- Write a program to find the simple interest when the value of principle,rate of interest and time period is provided by the user.\n"
   ]
  },
  {
   "cell_type": "code",
   "execution_count": 8,
   "metadata": {
    "id": "s40DlReZsTmY"
   },
   "outputs": [
    {
     "name": "stdout",
     "output_type": "stream",
     "text": [
      "Enter the Principal100\n",
      "Enter the rate23\n",
      "Enter the time in year 1\n",
      "The Simple Interest is :- 23.0\n",
      "123.0\n"
     ]
    }
   ],
   "source": [
    "# Write your code here\n",
    "principal=float(input('Enter the Principal'))\n",
    "rate=float(input('Enter the rate'))\n",
    "time_period=float(input('Enter the time in year '))\n",
    "SI=(principal*rate*time_period)/100\n",
    "print('The Simple Interest is :-',SI)\n",
    "Amt=SI+principal\n",
    "print(Amt)"
   ]
  },
  {
   "cell_type": "markdown",
   "metadata": {
    "id": "LMy0BTUktYKa"
   },
   "source": [
    "### Q6:- Write a program that will tell the number of dogs and chicken are there when the user will provide the value of total heads and legs.\n",
    "\n",
    "For example:\n",
    "Input:\n",
    "heads -> 4\n",
    "legs -> 12\n",
    "<br>\n",
    "Output:\n",
    "dogs -> 2\n",
    "chicken -> 2\n",
    "\n",
    "\n",
    "\n"
   ]
  },
  {
   "cell_type": "code",
   "execution_count": 16,
   "metadata": {
    "id": "XSBvJoA4tXaG"
   },
   "outputs": [
    {
     "name": "stdout",
     "output_type": "stream",
     "text": [
      "Enter the no of Heads6\n",
      "Enter the no of legs20\n",
      "Total No of Chickens:- 2 Total no of Dogs:-  4\n"
     ]
    }
   ],
   "source": [
    "# Write your code here\n",
    "heads=int(input('Enter the no of Heads'))\n",
    "legs=int(input('Enter the no of legs'))\n",
    "\n",
    "max_no_of_heads=legs/2\n",
    "dogs=max_no_of_heads-heads\n",
    "chickens=heads-dogs\n",
    "print('Total No of Chickens:-',int(chickens),'Total no of Dogs:- ',int(dogs))\n"
   ]
  },
  {
   "cell_type": "markdown",
   "metadata": {
    "id": "gJ7C5kZYt4BP"
   },
   "source": [
    "### Q7:- Write a program to find the sum of squares of first n natural numbers where n will be provided by the user."
   ]
  },
  {
   "cell_type": "code",
   "execution_count": 12,
   "metadata": {
    "id": "_tHsmEHzt2nX"
   },
   "outputs": [
    {
     "name": "stdout",
     "output_type": "stream",
     "text": [
      "enter the Natural Number4\n",
      " the sum of squares of first n natural numbers is:- 30.0\n"
     ]
    }
   ],
   "source": [
    "# Write your code here\n",
    "n=int(input('enter the Natural Number'))\n",
    "sum_of_sqr=(n*(n+1)*((2*n)+1))/6\n",
    "print(' the sum of squares of first n natural numbers is:-',sum_of_sqr)"
   ]
  },
  {
   "cell_type": "markdown",
   "metadata": {
    "id": "FHrMM7g-yG1h"
   },
   "source": [
    "### Q8:- Given the first 2 terms of an Arithmetic Series.Find the Nth term of the series. Assume all inputs are provided by the user."
   ]
  },
  {
   "cell_type": "code",
   "execution_count": 17,
   "metadata": {
    "id": "go4_kmZmyVSx"
   },
   "outputs": [
    {
     "name": "stdout",
     "output_type": "stream",
     "text": [
      "Enter first term 1\n",
      "Second Term 5\n",
      "which Term to find ?4\n",
      "13 is the Nth Term of the Series\n"
     ]
    }
   ],
   "source": [
    "# Write your code here\n",
    "f_term=int(input('Enter first term '))\n",
    "s_term=int(input('Second Term '))\n",
    "nth_term=int(input('which Term to find ?'))\n",
    "d=s_term-f_term\n",
    "n_term=f_term+(nth_term-1)*d\n",
    "print(n_term,'is the Nth Term of the Series')"
   ]
  },
  {
   "cell_type": "markdown",
   "metadata": {
    "id": "QgyRX_es1oum"
   },
   "source": [
    "### Q9:- Given 2 fractions, find the sum of those 2 fractions.Take the numerator and denominator values of the fractions from the user."
   ]
  },
  {
   "cell_type": "code",
   "execution_count": 19,
   "metadata": {
    "id": "X05xqFS1yW16"
   },
   "outputs": [
    {
     "name": "stdout",
     "output_type": "stream",
     "text": [
      "Enter the n1 point1\n",
      "Enter the d1 point2\n",
      "Enter the n2 point2\n",
      "Enter the  d2 point3\n",
      "7/6\n"
     ]
    }
   ],
   "source": [
    "# Write your code here\n",
    "n1,d1=int(input('Enter the n1 point')),int(input('Enter the d1 point'))\n",
    "n2,d2=int(input('Enter the n2 point')),int(input('Enter the  d2 point'))\n",
    "a=((n1*d2)+(n2*d1))\n",
    "b=(d1*d2)\n",
    "print(f'{a}/{b}')"
   ]
  },
  {
   "cell_type": "markdown",
   "metadata": {
    "id": "eaql38ln13u7"
   },
   "source": [
    "### Q10:- Given the height, width and breadth of a milk tank, you have to find out how many glasses of milk can be obtained? Assume all the inputs are provided by the user.\n",
    "\n",
    "\n",
    "\n",
    "Input:<br>\n",
    "Dimensions of the milk tank<br>\n",
    "H = 20cm, L = 20cm, B = 20cm\n",
    "<br><br>\n",
    "Dimensions of the glass<br>\n",
    "h = 3cm, r = 1cm"
   ]
  },
  {
   "cell_type": "code",
   "execution_count": 20,
   "metadata": {
    "id": "FePZqno74eWv"
   },
   "outputs": [
    {
     "name": "stdout",
     "output_type": "stream",
     "text": [
      "height 20\n",
      "length 20\n",
      "breadth 20\n",
      "Height of class3\n",
      "Radius1\n",
      "127\n"
     ]
    }
   ],
   "source": [
    "# Write your code here\n",
    "h=int(input('height '))\n",
    "l=int(input('length '))\n",
    "b=int(input('breadth '))\n",
    "he=int(input('Height of class'))\n",
    "r=int(input('Radius'))\n",
    "volume_of_milk_tank=h*l*b\n",
    "volume_of_glass=(22*r*r*h)/7\n",
    "no_of_glasses=int(volume_of_milk_tank/volume_of_glass)\n",
    "print(no_of_glasses)\n",
    "\n"
   ]
  },
  {
   "cell_type": "code",
   "execution_count": null,
   "metadata": {},
   "outputs": [],
   "source": []
  }
 ],
 "metadata": {
  "colab": {
   "provenance": []
  },
  "kernelspec": {
   "display_name": "Python 3",
   "language": "python",
   "name": "python3"
  },
  "language_info": {
   "codemirror_mode": {
    "name": "ipython",
    "version": 3
   },
   "file_extension": ".py",
   "mimetype": "text/x-python",
   "name": "python",
   "nbconvert_exporter": "python",
   "pygments_lexer": "ipython3",
   "version": "3.8.8"
  }
 },
 "nbformat": 4,
 "nbformat_minor": 1
}
