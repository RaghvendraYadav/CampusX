{
 "cells": [
  {
   "cell_type": "markdown",
   "metadata": {
    "id": "w6RlOAXV2PWh"
   },
   "source": [
    "### `Problem 1`: Write a program that will give you in hand monthly salary after deduction on CTC - HRA(10%), DA(5%), PF(3%) and taxes deduction as below:\n",
    "\n",
    "> Salary(Lakhs) : Tax(%)\n",
    "\n",
    "*   Below 5 : 0%\n",
    "*   5-10 : 10%\n",
    "*   10-20 : 20%\n",
    "*   aboove 20 : 30%"
   ]
  },
  {
   "cell_type": "code",
   "execution_count": 5,
   "metadata": {
    "id": "7tMHvKYO2etI"
   },
   "outputs": [
    {
     "name": "stdout",
     "output_type": "stream",
     "text": [
      "Enter the CTC520000\n",
      "The Monthly in Hand Salary is :- Rs. 31200.0\n"
     ]
    }
   ],
   "source": [
    "# Write code here\n",
    "CTC=float(input('Enter the CTC'))\n",
    "CTC_after_PF=CTC-((18/100)*CTC)\n",
    "if CTC <=500000:\n",
    "  in_hand=CTC_after_PF/12\n",
    "elif CTC > 500000 and CTC <= 1000000:\n",
    "  in_hand=(CTC_after_PF-((CTC*10))/100)/12\n",
    "elif CTC > 1000000 and CTC <= 2000000:\n",
    "  in_hand=(CTC_after_PF-((CTC*20))/100)/12\n",
    "else :\n",
    "  in_hand=(CTC_after_PF-((CTC*30))/100)/12\n",
    "print('The Monthly in Hand Salary is :- Rs.',in_hand)"
   ]
  },
  {
   "cell_type": "markdown",
   "metadata": {
    "id": "tYzCGqwl2hfN"
   },
   "source": [
    "### `Problem 2`: Write a program that take a user input of three angles and will find out whether it can form a triangle or not."
   ]
  },
  {
   "cell_type": "code",
   "execution_count": 6,
   "metadata": {
    "id": "FYEqln-I2kxV"
   },
   "outputs": [
    {
     "name": "stdout",
     "output_type": "stream",
     "text": [
      "Enter the First Angle 12\n",
      "Enter the Second Angle 78\n",
      "Enter the third Angle 90\n",
      "It Can Form a Triangle\n"
     ]
    }
   ],
   "source": [
    "# Write code here\n",
    "angle1=float(input('Enter the First Angle '))\n",
    "angle2=float(input('Enter the Second Angle '))\n",
    "angle3=float(input('Enter the third Angle '))\n",
    "sum_of_angle=angle1+angle2+angle3\n",
    "if sum_of_angle==180:\n",
    "    print('It Can Form a Triangle')\n",
    "else:\n",
    "    print('It is not a Triangle')"
   ]
  },
  {
   "cell_type": "markdown",
   "metadata": {
    "id": "5vEpPh8C2pE4"
   },
   "source": [
    "### `Problem 3`: Write a program that will take user input of cost price and selling price and determines whether its a loss or a profit."
   ]
  },
  {
   "cell_type": "code",
   "execution_count": 8,
   "metadata": {
    "id": "jDwBXlkO2sfl"
   },
   "outputs": [
    {
     "name": "stdout",
     "output_type": "stream",
     "text": [
      "Enter the Cost Price2000\n",
      "Enter the Selling Price2000\n",
      "The User faced no profit no  loss\n"
     ]
    }
   ],
   "source": [
    "# Write code here\n",
    "CP=float(input('Enter the Cost Price'))\n",
    "SP=float(input('Enter the Selling Price'))\n",
    "Diff=SP-CP\n",
    "if Diff<0:\n",
    "    print('The User as a loss of : Rs.',-(Diff))\n",
    "elif Diff >0:\n",
    "     print('The User as a Profit of : Rs.',Diff)\n",
    "else:\n",
    "    print('The User faced no profit no  loss')\n",
    "    "
   ]
  },
  {
   "cell_type": "markdown",
   "metadata": {
    "id": "J_FG_cJW2ugT"
   },
   "source": [
    "### `Problem 4`: Write a menu-driven program - \n",
    "1. cm to ft \n",
    "2. km to miles \n",
    "3. USD to INR \n",
    "4. exit"
   ]
  },
  {
   "cell_type": "code",
   "execution_count": null,
   "metadata": {
    "id": "yBHhaCGQ2zpD"
   },
   "outputs": [],
   "source": [
    "# Write code here\n",
    "if (num==1):\n",
    "    vcm=int(input('Please enter the valye in cm'))\n",
    "    vft=vcm*0.0328\n",
    "    print('Value in feet is:- ',vft)\n",
    "elif (num==2):\n",
    "    vkm=int(input('Please enter the valye in vkm'))\n",
    "    vmil="
   ]
  },
  {
   "cell_type": "markdown",
   "metadata": {
    "id": "LJJ30_Yw27ZU"
   },
   "source": [
    "### `Problem 5` - Exercise 12: Display Fibonacci series up to 10 terms.\n",
    "\n",
    "*Note: The Fibonacci Sequence is a series of numbers. The next number is found by adding up the two numbers before it. The first two numbers are 0 and 1. For example, 0, 1, 1, 2, 3, 5, 8, 13, 21. The next number in this series above is 13+21 = 34*"
   ]
  },
  {
   "cell_type": "code",
   "execution_count": 12,
   "metadata": {
    "id": "ae_1rpe52-5R"
   },
   "outputs": [
    {
     "name": "stdout",
     "output_type": "stream",
     "text": [
      "4\n",
      "3\n"
     ]
    }
   ],
   "source": [
    "# Write code here\n",
    "a=0\n",
    "b=1\n",
    "n=int(input())\n",
    "for i  in range(0,n):\n",
    "    a,b=b,a+b\n",
    "print(a)\n"
   ]
  },
  {
   "cell_type": "markdown",
   "metadata": {
    "id": "pk_I_S4m3PT5"
   },
   "source": [
    "### `Problem 6` - Find the factorial of a given number.\n",
    "\n",
    "Write a program to use the loop to find the factorial of a given number.\n",
    "\n",
    "The factorial (symbol: `!`) means to multiply all whole numbers from the chosen number down to 1.\n",
    "\n",
    "For example: calculate the factorial of 5\n",
    "\n",
    "```bash\n",
    "5! = 5 × 4 × 3 × 2 × 1 = 120\n",
    "```\n",
    "\n",
    "Output: \n",
    "\n",
    "```bash\n",
    "120\n",
    "```"
   ]
  },
  {
   "cell_type": "code",
   "execution_count": 19,
   "metadata": {
    "id": "lzXxHegx3Rkc"
   },
   "outputs": [
    {
     "name": "stdout",
     "output_type": "stream",
     "text": [
      "Enter the number6\n",
      "720\n"
     ]
    }
   ],
   "source": [
    "# Write code here\n",
    "n=int(input('Enter the number'))\n",
    "fact=1\n",
    "while(n>0):\n",
    "    fact=fact*n\n",
    "    n-=1\n",
    "    \n",
    "print(fact)\n",
    "    "
   ]
  },
  {
   "cell_type": "markdown",
   "metadata": {
    "id": "-17IOi-g3UpU"
   },
   "source": [
    "### `Problem 7` - Reverse a given integer number.\n",
    "\n",
    "Example:\n",
    "\n",
    "`Input:`\n",
    "\n",
    "```bash\n",
    "76542\n",
    "```\n",
    "\n",
    "`Output:`\n",
    "\n",
    "```bash\n",
    "24567\n",
    "```"
   ]
  },
  {
   "cell_type": "code",
   "execution_count": 22,
   "metadata": {
    "id": "wJwLpKCr3aVA"
   },
   "outputs": [
    {
     "name": "stdout",
     "output_type": "stream",
     "text": [
      "Enter the Number855548\n",
      "845558\n"
     ]
    }
   ],
   "source": [
    "# Write code here\n",
    "n=int(input('Enter the Number'))\n",
    "rev=0\n",
    "rem=0\n",
    "while(n>0):\n",
    "    rem=n%10\n",
    "    n=n//10\n",
    "    rev=rev*10+rem\n",
    "    \n",
    "print(rev)\n",
    "    "
   ]
  },
  {
   "cell_type": "markdown",
   "metadata": {
    "id": "-t8PJQaY3sHf"
   },
   "source": [
    "### `Problem 8`: Take a user input as integer N. Find out the sum from 1 to N. If any number if divisible by 5, then skip that number. And if the sum is greater than 300, don't need to calculate the sum further more. Print the final result. And don't use for loop to solve this problem.\n",
    "\n",
    "**Example 1:**\n",
    "\n",
    "`Input:`\n",
    "\n",
    "```bash\n",
    "30\n",
    "```\n",
    "\n",
    "`Output:`\n",
    "\n",
    "```bash\n",
    "276\n",
    "```"
   ]
  },
  {
   "cell_type": "code",
   "execution_count": 16,
   "metadata": {
    "id": "GZB6mGMP3ujT"
   },
   "outputs": [
    {
     "name": "stdout",
     "output_type": "stream",
     "text": [
      "Enter the number30\n",
      "276\n"
     ]
    }
   ],
   "source": [
    "# Write code here\n",
    "sum=0\n",
    "num=int(input('Enter the number'))\n",
    "i=1\n",
    "while(i<=num):\n",
    "    if i%5==0:\n",
    "        i+=1\n",
    "        continue\n",
    "    sum +=i  \n",
    "    if sum > 300:\n",
    "        sum=sum-i\n",
    "        break\n",
    "    i+=1\n",
    "print(sum)    \n",
    "    \n",
    "\n",
    "        "
   ]
  },
  {
   "cell_type": "markdown",
   "metadata": {
    "id": "Q7ggImeA3xm4"
   },
   "source": [
    "### `Problem 9`: Write a program that keeps on accepting a number from the user until the user enters Zero. Display the sum and average of all the numbers."
   ]
  },
  {
   "cell_type": "code",
   "execution_count": 21,
   "metadata": {
    "id": "t_YDSZDe4Kdo"
   },
   "outputs": [
    {
     "name": "stdout",
     "output_type": "stream",
     "text": [
      "Enter the number21\n",
      "Enter the number12\n",
      "Enter the number12\n",
      "Enter the number21\n",
      "Enter the number12\n",
      "Enter the number21\n",
      "Enter the number12\n",
      "Enter the number21\n",
      "Enter the number0\n",
      "16.5\n"
     ]
    }
   ],
   "source": [
    "# Write code here\n",
    "number=int(input('Enter the number'))\n",
    "sum=0\n",
    "count=0\n",
    "while(number != 0):\n",
    "    sum+=number\n",
    "    count+=1\n",
    "    number=int(input('Enter the number'))\n",
    "    \n",
    "avg=sum/count\n",
    "print(avg)"
   ]
  },
  {
   "cell_type": "markdown",
   "metadata": {
    "id": "6EhvEMvm4R7s"
   },
   "source": [
    "###`Problem 9`: Write a program which will find all such numbers which are divisible by 7 but are not a multiple of 5, between 2000 and 3200 (both included). The numbers obtained should be printed in a comma-separated sequence on a single line."
   ]
  },
  {
   "cell_type": "code",
   "execution_count": 29,
   "metadata": {
    "id": "d6RgP1B34T6c"
   },
   "outputs": [
    {
     "name": "stdout",
     "output_type": "stream",
     "text": [
      "2002,2009,2016,2023,2037,2044,2051,2058,2072,2079,2086,2093,2107,2114,2121,2128,2142,2149,2156,2163,2177,2184,2191,2198,2212,2219,2226,2233,2247,2254,2261,2268,2282,2289,2296,2303,2317,2324,2331,2338,2352,2359,2366,2373,2387,2394,2401,2408,2422,2429,2436,2443,2457,2464,2471,2478,2492,2499,2506,2513,2527,2534,2541,2548,2562,2569,2576,2583,2597,2604,2611,2618,2632,2639,2646,2653,2667,2674,2681,2688,2702,2709,2716,2723,2737,2744,2751,2758,2772,2779,2786,2793,2807,2814,2821,2828,2842,2849,2856,2863,2877,2884,2891,2898,2912,2919,2926,2933,2947,2954,2961,2968,2982,2989,2996,3003,3017,3024,3031,3038,3052,3059,3066,3073,3087,3094,3101,3108,3122,3129,3136,3143,3157,3164,3171,3178,3192,3199\n"
     ]
    }
   ],
   "source": [
    "# Write code here\n",
    "L=[]\n",
    "for i in range(2000,3201):\n",
    "    if i%7==0  and i%5 !=0:\n",
    "        L.append(str(i))\n",
    "print(\",\".join(L))  "
   ]
  },
  {
   "cell_type": "markdown",
   "metadata": {
    "id": "tYvmRR-G4Vp4"
   },
   "source": [
    "###`Problem 10`: Write a program, which will find all such numbers between 1000 and 3000 (both included) such that each digit of the number is an even number. The numbers obtained should be printed in a space-separated sequence on a single line.\n",
    "\n"
   ]
  },
  {
   "cell_type": "code",
   "execution_count": 30,
   "metadata": {
    "id": "k6Gs1kIf4k19"
   },
   "outputs": [
    {
     "name": "stdout",
     "output_type": "stream",
     "text": [
      "2000 2002 2004 2006 2008 2020 2022 2024 2026 2028 2040 2042 2044 2046 2048 2060 2062 2064 2066 2068 2080 2082 2084 2086 2088 2200 2202 2204 2206 2208 2220 2222 2224 2226 2228 2240 2242 2244 2246 2248 2260 2262 2264 2266 2268 2280 2282 2284 2286 2288 2400 2402 2404 2406 2408 2420 2422 2424 2426 2428 2440 2442 2444 2446 2448 2460 2462 2464 2466 2468 2480 2482 2484 2486 2488 2600 2602 2604 2606 2608 2620 2622 2624 2626 2628 2640 2642 2644 2646 2648 2660 2662 2664 2666 2668 2680 2682 2684 2686 2688 2800 2802 2804 2806 2808 2820 2822 2824 2826 2828 2840 2842 2844 2846 2848 2860 2862 2864 2866 2868 2880 2882 2884 2886 2888\n"
     ]
    }
   ],
   "source": [
    "# Write code here\n",
    "L=[]\n",
    "for i in range(1000,3001):\n",
    "    flag=True\n",
    "    curr=i\n",
    "    while(curr>0):\n",
    "        temp=curr%10\n",
    "        if temp % 2 !=0:\n",
    "            flag=False\n",
    "            break\n",
    "        curr=curr//10\n",
    "    if flag:\n",
    "        L.append(str(i))\n",
    "print(' '.join(L))        "
   ]
  },
  {
   "cell_type": "markdown",
   "metadata": {
    "id": "GV18IINT4mf5"
   },
   "source": [
    "###`Problem 11`: A robot moves in a plane starting from the original point (0,0). The robot can move toward UP, DOWN, LEFT and RIGHT with a given steps. \n",
    "The trace of robot movement is shown as the following:\n",
    "```\n",
    "UP 5\n",
    "DOWN 3\n",
    "LEFT 3\n",
    "RIGHT 2\n",
    "!\n",
    "```\n",
    "> The numbers after the direction are steps. \n",
    "\n",
    "> `!` means robot stop there.\n",
    "\n",
    "**Please write a program to compute the distance from current position after a sequence of movement and original point.** \n",
    "\n",
    "*If the distance is a float, then just print the nearest integer.*\n",
    "\n",
    "Example:\n",
    "\n",
    "`Input`:\n",
    "```\n",
    "UP 5\n",
    "DOWN 3\n",
    "LEFT 3\n",
    "RIGHT 2\n",
    "!\n",
    "```\n",
    "`Output`:\n",
    "```\n",
    "2\n",
    "```"
   ]
  },
  {
   "cell_type": "code",
   "execution_count": 5,
   "metadata": {
    "id": "6UNMC2aR4w5x"
   },
   "outputs": [
    {
     "name": "stdout",
     "output_type": "stream",
     "text": [
      "Enter the UP Steps5\n",
      "Enter the DOWN Step3\n",
      "Enter the Left Step3\n",
      "Enter the Right Step2\n",
      "2\n"
     ]
    }
   ],
   "source": [
    "# Write code here\n",
    "import numpy as np\n",
    "import math\n",
    "\n",
    "UP=int(input('Enter the UP Steps'))\n",
    "DOWN=int(input('Enter the DOWN Step'))\n",
    "LEFT=int(input('Enter the Left Step'))\n",
    "RIGHT=int(input('Enter the Right Step'))\n",
    "\n",
    "y=UP-DOWN\n",
    "x=RIGHT-LEFT\n",
    "distance=np.sqrt((x**2)+(y**2))\n",
    "print(math.floor(distance))"
   ]
  },
  {
   "cell_type": "markdown",
   "metadata": {
    "id": "3fsAIAhK5GYY"
   },
   "source": [
    "###`Problem 12`:Write a program to print whether a given number is a prime number or not"
   ]
  },
  {
   "cell_type": "code",
   "execution_count": 42,
   "metadata": {
    "id": "j6y91lxy5LZs"
   },
   "outputs": [
    {
     "name": "stdout",
     "output_type": "stream",
     "text": [
      "Enter the Number17\n",
      "The Number is a Prime Number\n"
     ]
    }
   ],
   "source": [
    "# Write code here\n",
    "n=int(input('Enter the Number'))\n",
    "count=0\n",
    "i=2\n",
    "if n==1:\n",
    "    print('The Number is not A Prime Number ')\n",
    "else:\n",
    "    while(i<n):\n",
    "        if n%i==0:\n",
    "            count+=1\n",
    "            break\n",
    "        i+=1\n",
    "    if count==0:\n",
    "        print('The Number is a Prime Number')\n",
    "    else:\n",
    "         print('The  Numer is not  Prime Number')"
   ]
  },
  {
   "cell_type": "markdown",
   "metadata": {
    "id": "asAbmbK-5NHv"
   },
   "source": [
    "###`Problem 13`:Print all the Armstrong numbers in a given range.\n",
    "Range will be provided by the user<br>\n",
    "Armstrong number is a number that is equal to the sum of cubes of its digits. For example 0, 1, 153, 370, 371 and 407 are the Armstrong numbers."
   ]
  },
  {
   "cell_type": "code",
   "execution_count": 13,
   "metadata": {
    "id": "PZuI67pm5jCT"
   },
   "outputs": [
    {
     "name": "stdout",
     "output_type": "stream",
     "text": [
      "Enter the number500\n",
      "0\n",
      "1\n",
      "153\n",
      "370\n",
      "371\n",
      "407\n"
     ]
    }
   ],
   "source": [
    "n=int(input('Enter the number'))\n",
    "for i in range(0,n):\n",
    "    sum1=0\n",
    "    num=i\n",
    "    while(num>0):\n",
    "        temp=num%10\n",
    "        arm=(temp*(temp*temp))\n",
    "        sum1=sum1+arm\n",
    "        num=num//10\n",
    "    if sum1 == i:\n",
    "        print(i)\n",
    "        \n",
    "        "
   ]
  },
  {
   "cell_type": "markdown",
   "metadata": {
    "id": "ClCQZMqT7gK0"
   },
   "source": [
    "###`Problem 14`:Calculate the angle between the hour hand and minute hand.\n",
    "\n",
    "Note: There can be two angles between hands; we need to print a minimum of two. Also, we need to print the floor of the final result angle. For example, if the final angle is 10.61, we need to print 10.\n",
    "\n",
    "Input:<br>\n",
    "H = 9 , M = 0<br>\n",
    "Output:<br>\n",
    "90<br>\n",
    "Explanation:<br>\n",
    "The minimum angle between hour and minute\n",
    "hand when the time is 9 is 90 degress."
   ]
  },
  {
   "cell_type": "code",
   "execution_count": null,
   "metadata": {
    "id": "tNBTCZML7jy_"
   },
   "outputs": [],
   "source": [
    "# Write code here"
   ]
  },
  {
   "cell_type": "markdown",
   "metadata": {
    "id": "GwacF9Co72Qc"
   },
   "source": [
    "###`Problem 15`:Given two rectangles, find if the given two rectangles overlap or not. A rectangle is denoted by providing the x and y coordinates of two points: the left top corner and the right bottom corner of the rectangle. Two rectangles sharing a side are considered overlapping. (L1 and R1 are the extreme points of the first rectangle and L2 and R2 are the extreme points of the second rectangle).\n",
    "\n",
    "Note: It may be assumed that the rectangles are parallel to the coordinate axis.\n",
    "\n",
    "<img src='https://www.geeksforgeeks.org/wp-content/uploads/rectanglesOverlap.png' width='300' height='200'>"
   ]
  },
  {
   "cell_type": "code",
   "execution_count": null,
   "metadata": {
    "id": "6rrw_lpH78Rs"
   },
   "outputs": [],
   "source": [
    "# Write code here"
   ]
  }
 ],
 "metadata": {
  "colab": {
   "provenance": []
  },
  "kernelspec": {
   "display_name": "Python 3",
   "language": "python",
   "name": "python3"
  },
  "language_info": {
   "codemirror_mode": {
    "name": "ipython",
    "version": 3
   },
   "file_extension": ".py",
   "mimetype": "text/x-python",
   "name": "python",
   "nbconvert_exporter": "python",
   "pygments_lexer": "ipython3",
   "version": "3.8.8"
  }
 },
 "nbformat": 4,
 "nbformat_minor": 1
}
